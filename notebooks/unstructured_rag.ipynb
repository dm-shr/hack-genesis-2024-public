{
 "cells": [
  {
   "cell_type": "code",
   "execution_count": 33,
   "metadata": {},
   "outputs": [],
   "source": [
    "import os\n",
    "from langchain_community.document_loaders.text import TextLoader\n",
    "from langchain_community.document_loaders import DirectoryLoader\n",
    "from langchain_experimental.text_splitter import SemanticChunker\n",
    "from langchain_text_splitters import RecursiveCharacterTextSplitter\n",
    "from yandex_chain import YandexEmbeddings\n",
    "from langchain_community.vectorstores import FAISS"
   ]
  },
  {
   "cell_type": "code",
   "execution_count": 14,
   "metadata": {},
   "outputs": [],
   "source": [
    "if os.getenv(\"environment\") != \"production\":\n",
    "    from dotenv import load_dotenv\n",
    "    load_dotenv(\"../app/.env\")\n",
    "\n",
    "AUTH_DATA = os.getenv(\"AUTH_DATA\")\n",
    "API_KEY = os.getenv(\"API_KEY\")\n",
    "FOLDER_ID = os.getenv(\"FOLDER_ID\")"
   ]
  },
  {
   "cell_type": "code",
   "execution_count": 37,
   "metadata": {},
   "outputs": [
    {
     "name": "stderr",
     "output_type": "stream",
     "text": [
      "  0%|          | 0/485 [00:00<?, ?it/s]"
     ]
    },
    {
     "name": "stderr",
     "output_type": "stream",
     "text": [
      "100%|██████████| 485/485 [00:00<00:00, 3884.04it/s]\n"
     ]
    }
   ],
   "source": [
    "loader = DirectoryLoader(\"../data/txt_unstructured\",\n",
    "                    glob=\"**/*.txt\",\n",
    "                    loader_cls=TextLoader,\n",
    "                    show_progress=True,\n",
    "                    loader_kwargs={\"encoding\":\"utf-8\"})\n",
    "\n",
    "data = loader.load()"
   ]
  },
  {
   "cell_type": "code",
   "execution_count": 28,
   "metadata": {},
   "outputs": [],
   "source": [
    "text_splitter=RecursiveCharacterTextSplitter( # TODO: semantic chunking\n",
    "    chunk_size=500, # TODO: tune this\n",
    "    chunk_overlap=10\n",
    ")\n",
    "\n",
    "chunks = text_splitter.split_documents(data)"
   ]
  },
  {
   "cell_type": "code",
   "execution_count": 38,
   "metadata": {},
   "outputs": [],
   "source": [
    "semantic_text_splitter = SemanticChunker(YandexEmbeddings(folder_id=FOLDER_ID, api_key=API_KEY))\n",
    "chunks = text_splitter.split_documents(data)"
   ]
  },
  {
   "cell_type": "code",
   "execution_count": 39,
   "metadata": {},
   "outputs": [],
   "source": [
    "faiss_vdb = \"faiss_unstructured_v0.0.2\""
   ]
  },
  {
   "cell_type": "code",
   "execution_count": 40,
   "metadata": {},
   "outputs": [],
   "source": [
    "db = FAISS.from_documents(chunks, YandexEmbeddings(folder_id=FOLDER_ID, api_key=API_KEY))\n",
    "db.save_local(os.path.join(\"..\", \"data\", \"unstructured_vdb\", faiss_vdb))"
   ]
  },
  {
   "cell_type": "code",
   "execution_count": null,
   "metadata": {},
   "outputs": [],
   "source": []
  }
 ],
 "metadata": {
  "kernelspec": {
   "display_name": "Python 3",
   "language": "python",
   "name": "python3"
  },
  "language_info": {
   "codemirror_mode": {
    "name": "ipython",
    "version": 3
   },
   "file_extension": ".py",
   "mimetype": "text/x-python",
   "name": "python",
   "nbconvert_exporter": "python",
   "pygments_lexer": "ipython3",
   "version": "3.10.14"
  }
 },
 "nbformat": 4,
 "nbformat_minor": 2
}
