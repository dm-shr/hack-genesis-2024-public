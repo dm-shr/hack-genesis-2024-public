{
 "cells": [
  {
   "cell_type": "code",
   "execution_count": 10,
   "metadata": {},
   "outputs": [
    {
     "name": "stdout",
     "output_type": "stream",
     "text": [
      "['table_page32.csv', 'table_page30.csv', 'table_page33.csv', 'table_page43.csv', 'table_page45.csv', 'table_page27.csv', 'table_page50.csv', 'table_page5.csv', 'table_page14.csv', 'table_page12.csv', 'table_page9.csv', 'table_page40.csv', 'table_page35.csv', 'table_page37.csv', 'table_page2.csv', 'table_page53.csv', 'table_page28.csv', 'table_page4.csv', 'table_page46.csv', 'table_page10.csv', 'table_page34.csv', 'table_page38.csv', 'table_page48.csv', 'table_page24.csv', 'table_page7.csv', 'table_page51.csv', 'table_page52.csv', 'table_page13.csv', 'table_page36.csv', 'table_page8.csv', 'table_page18.csv', 'table_page44.csv', 'table_page29.csv', 'table_page22.csv', 'table_page31.csv', 'table_page26.csv', 'table_page47.csv', 'table_page25.csv', 'table_page21.csv', 'table_page1.csv']\n",
      "['table_page11.csv', 'table_page5.csv', 'table_page12.csv', 'table_page9.csv', 'table_page2.csv', 'table_page4.csv', 'table_page6.csv', 'table_page10.csv', 'table_page7.csv', 'table_page13.csv', 'table_page8.csv', 'table_page3.csv']\n",
      "['table_page32.csv', 'table_page30.csv', 'table_page20.csv', 'table_page33.csv', 'table_page41.csv', 'table_page43.csv', 'table_page39.csv', 'table_page27.csv', 'table_page11.csv', 'table_page5.csv', 'table_page14.csv', 'table_page12.csv', 'table_page9.csv', 'table_page40.csv', 'table_page35.csv', 'table_page37.csv', 'table_page2.csv', 'table_page15.csv', 'table_page28.csv', 'table_page42.csv', 'table_page6.csv', 'table_page10.csv', 'table_page34.csv', 'table_page38.csv', 'table_page17.csv', 'table_page19.csv', 'table_page24.csv', 'table_page7.csv', 'table_page13.csv', 'table_page36.csv', 'table_page8.csv', 'table_page18.csv', 'table_page29.csv', 'table_page16.csv', 'table_page22.csv', 'table_page31.csv', 'table_page26.csv', 'table_page25.csv', 'table_page21.csv', 'table_page1.csv', 'table_page23.csv']\n",
      "['table_page56.csv', 'table_page58.csv', 'table_page32.csv', 'table_page30.csv', 'table_page20.csv', 'table_page33.csv', 'table_page41.csv', 'table_page43.csv', 'table_page45.csv', 'table_page57.csv', 'table_page39.csv', 'table_page67.csv', 'table_page27.csv', 'table_page11.csv', 'table_page61.csv', 'table_page59.csv', 'table_page72.csv', 'table_page50.csv', 'table_page63.csv', 'table_page5.csv', 'table_page14.csv', 'table_page78.csv', 'table_page12.csv', 'table_page66.csv', 'table_page9.csv', 'table_page40.csv', 'table_page62.csv', 'table_page68.csv', 'table_page71.csv', 'table_page35.csv', 'table_page79.csv', 'table_page49.csv', 'table_page37.csv', 'table_page2.csv', 'table_page53.csv', 'table_page15.csv', 'table_page28.csv', 'table_page42.csv', 'table_page54.csv', 'table_page64.csv', 'table_page4.csv', 'table_page6.csv', 'table_page46.csv', 'table_page10.csv', 'table_page34.csv', 'table_page38.csv', 'table_page48.csv', 'table_page17.csv', 'table_page60.csv', 'table_page19.csv', 'table_page24.csv', 'table_page76.csv', 'table_page81.csv', 'table_page7.csv', 'table_page69.csv', 'table_page51.csv', 'table_page52.csv', 'table_page74.csv', 'table_page13.csv', 'table_page80.csv', 'table_page36.csv', 'table_page8.csv', 'table_page18.csv', 'table_page77.csv', 'table_page44.csv', 'table_page29.csv', 'table_page16.csv', 'table_page22.csv', 'table_page31.csv', 'table_page26.csv', 'table_page47.csv', 'table_page55.csv', 'table_page25.csv', 'table_page3.csv', 'table_page75.csv', 'table_page65.csv', 'table_page70.csv', 'table_page21.csv', 'table_page1.csv', 'table_page23.csv']\n"
     ]
    }
   ],
   "source": [
    "import os\n",
    "\n",
    "# Get a list of all directories in the specified path\n",
    "directories = [d for d in os.listdir(\"../data/csv_structured/digital\")]\n",
    "\n",
    "# Iterate through each subfolder\n",
    "for directory in directories:\n",
    "    # Your code for processing each subfolder goes here\n",
    "    # Get a list of all files in the current directory\n",
    "    \n",
    "    files = os.listdir(os.path.join(\"../data/csv_structured/digital\", directory))\n",
    "    print(files)\n",
    "    # Iterate through each file\n",
    "    for file in files:\n",
    "        # Check if the file size is less than 1kb\n",
    "        if os.path.getsize(os.path.join(\"../data/csv_structured/digital\", directory, file)) < 1024:\n",
    "            # Remove the file\n",
    "            os.remove(os.path.join(\"../data/csv_structured/digital\", directory, file))\n"
   ]
  },
  {
   "cell_type": "code",
   "execution_count": null,
   "metadata": {},
   "outputs": [],
   "source": []
  }
 ],
 "metadata": {
  "kernelspec": {
   "display_name": "Python 3",
   "language": "python",
   "name": "python3"
  },
  "language_info": {
   "codemirror_mode": {
    "name": "ipython",
    "version": 3
   },
   "file_extension": ".py",
   "mimetype": "text/x-python",
   "name": "python",
   "nbconvert_exporter": "python",
   "pygments_lexer": "ipython3",
   "version": "3.10.14"
  }
 },
 "nbformat": 4,
 "nbformat_minor": 2
}
