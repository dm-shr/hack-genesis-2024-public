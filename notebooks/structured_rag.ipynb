{
 "cells": [
  {
   "cell_type": "code",
   "execution_count": 1,
   "metadata": {},
   "outputs": [],
   "source": [
    "import os\n",
    "from langchain_community.document_loaders.text import TextLoader\n",
    "from langchain_community.document_loaders import DirectoryLoader\n",
    "from langchain_experimental.text_splitter import SemanticChunker\n",
    "from langchain_text_splitters import RecursiveCharacterTextSplitter\n",
    "from yandex_chain import YandexEmbeddings\n",
    "from langchain_community.vectorstores import FAISS"
   ]
  },
  {
   "cell_type": "code",
   "execution_count": 2,
   "metadata": {},
   "outputs": [],
   "source": [
    "if os.getenv(\"environment\") != \"production\":\n",
    "    from dotenv import load_dotenv\n",
    "    load_dotenv(\"../app/.env\")\n",
    "\n",
    "AUTH_DATA = os.getenv(\"AUTH_DATA\")\n",
    "API_KEY = os.getenv(\"API_KEY\")\n",
    "FOLDER_ID = os.getenv(\"FOLDER_ID\")"
   ]
  },
  {
   "cell_type": "code",
   "execution_count": 3,
   "metadata": {},
   "outputs": [
    {
     "name": "stderr",
     "output_type": "stream",
     "text": [
      "100%|██████████| 182/182 [00:00<00:00, 3710.74it/s]\n"
     ]
    }
   ],
   "source": [
    "loader = DirectoryLoader(\"../data/csv_structured\",\n",
    "                    glob=\"**/*.csv\",\n",
    "                    loader_cls=TextLoader,\n",
    "                    show_progress=True,\n",
    "                    loader_kwargs={\"encoding\":\"utf-8\"})\n",
    "\n",
    "data = loader.load()"
   ]
  },
  {
   "cell_type": "code",
   "execution_count": 4,
   "metadata": {},
   "outputs": [],
   "source": [
    "text_splitter=RecursiveCharacterTextSplitter( # TODO: semantic chunking\n",
    "    chunk_size=500, # TODO: tune this\n",
    "    chunk_overlap=10\n",
    ")\n",
    "\n",
    "chunks = text_splitter.split_documents(data)"
   ]
  },
  {
   "cell_type": "code",
   "execution_count": 5,
   "metadata": {},
   "outputs": [],
   "source": [
    "semantic_text_splitter = SemanticChunker(YandexEmbeddings(folder_id=FOLDER_ID, api_key=API_KEY))\n",
    "chunks = text_splitter.split_documents(data)"
   ]
  },
  {
   "cell_type": "code",
   "execution_count": 6,
   "metadata": {},
   "outputs": [],
   "source": [
    "faiss_vdb = \"faiss_structured_v0.0.1\""
   ]
  },
  {
   "cell_type": "code",
   "execution_count": 7,
   "metadata": {},
   "outputs": [],
   "source": [
    "db = FAISS.from_documents(chunks, YandexEmbeddings(folder_id=FOLDER_ID, api_key=API_KEY))\n",
    "db.save_local(os.path.join(\"..\", \"data\", \"structured_vdb\", faiss_vdb))"
   ]
  },
  {
   "cell_type": "markdown",
   "metadata": {},
   "source": [
    "# inference"
   ]
  },
  {
   "cell_type": "code",
   "execution_count": 8,
   "metadata": {},
   "outputs": [],
   "source": [
    "db = FAISS.load_local(\n",
    "    os.path.join(\"..\", \"data\", \"structured_vdb\", faiss_vdb),\n",
    "    YandexEmbeddings(folder_id=FOLDER_ID, api_key=API_KEY),\n",
    "    allow_dangerous_deserialization = True\n",
    ")"
   ]
  },
  {
   "cell_type": "code",
   "execution_count": 13,
   "metadata": {},
   "outputs": [],
   "source": [
    "query = \"Какова дебиторская задолженность на 31 декабря 2022 г.?\"\n",
    "docs = db.similarity_search(query)"
   ]
  },
  {
   "cell_type": "code",
   "execution_count": 14,
   "metadata": {},
   "outputs": [
    {
     "data": {
      "text/plain": [
       "[Document(page_content='Ha 31.12.2022,Ha 31.12.2021,\\nДолгосрочная кредиторская задолженность,,\\nОоязательства перед генеральным подрядчиком,269 478,447 222\\nв том числе удёржано из оплаты генерального подрядчика,,\\nГарантийное удержание,269 478,447 822\\nПрочие удержания,,\\nитого долгосрочная кредиторская задолженность:,1 269 478,447 822\\nКраткосточнаа unaпuтоnе,,\\nItHu кыuкнах креди торская задолженность V1 1 - -,,\\nАванса получснныи по концессионному соглашению Обазяте 7т,909 191,', metadata={'source': '../data/csv_structured/scanned/27.04.2023 АЗ ГД МСФО за 2022г_опт/table_page42.csv'}),\n",
       " Document(page_content='31 декабря 2022,31 декабря 2021,,\\n(6 mысячах poccuicкux рублей),Прим:,года,года\\nАКТИВЫ,,,\\nВнеоборотные активы,,,\\nЗаймы выданные,29 386 665,41 030 353,\\nОтложенный налоговый актив,13,4 082 948,2 067 136\\nИтого внеоборотные активы,33 469 613,43 097 489,\\nОборотные активы,,,\\nЗаймы выданные,219 741,532 399,\\nАвансы выданные,372,367,\\nПрочая дебиторская задолженность,105,151,\\nДенежные средства и их эквиваленты,710,026,\\nИтого оборотные активы,220 928,533 943,\\nИТОГО АКТИВОВ,33 690 541,43 631 432,', metadata={'source': '../data/csv_structured/scanned/O1 Properties Finance FS 2022 signed/table_page7.csv'}),\n",
       " Document(page_content='Итого торговая и прочая дебиторс вычетом резерва,ская задолженность,кая задолженность 3,3 502 869,4 119 108\\nРуководство полагает ЧТО текущая,стоимость   торгово,стоимость   торговой,очей дебиторской,\"адолженности,\"\\nотраженная финансовой отчетносту,\"гИ, соответствует ee\",соответствует ee СП,ливой стОИмости-,\\nИзменения резерва под ожидаемые,кредитные убытки:,редитные убытки:,За год зак,ончившийся\\n31 Д,зкабря,,,\\n2 022,2021,,,\\nОстаток на начало гола,123 850,100 926,,', metadata={'source': '../data/csv_structured/scanned/АЗ+КФО Абрау-Дюрсо_2022 (3)/table_page32.csv'}),\n",
       " Document(page_content='Ha 31 де,кабря,,\\nПрим:,2022,2021,\\nАКТИВЫ,,,\\nОборотные активы:,,,\\nДенежные средства и их эквиваленты,12,336 647,186 141\\nЗапасы,14,5 273 933,3 889 363\\nорговая и прочая дебиторская задолженность,13,3 502 869,4 119 108\\nАвансы выданные и расходы будущих периолов,680 151,103 684,\\nПрочие оборотные активы,55 293,76 610,\\nИтого оборотные активы,10 848 893,10 U1U 9 374 906,\\nВнеоборотные активы:,,,\\nОсновные средства,12 812 282,4n? €F,\\nИнвестиционная нелвижимость,1z 0 2 zoz 2гэ 001,403 033,', metadata={'source': '../data/csv_structured/scanned/АЗ+КФО Абрау-Дюрсо_2022 (3)/table_page8.csv'})]"
      ]
     },
     "execution_count": 14,
     "metadata": {},
     "output_type": "execute_result"
    }
   ],
   "source": [
    "docs"
   ]
  },
  {
   "cell_type": "code",
   "execution_count": null,
   "metadata": {},
   "outputs": [],
   "source": []
  }
 ],
 "metadata": {
  "kernelspec": {
   "display_name": "Python 3",
   "language": "python",
   "name": "python3"
  },
  "language_info": {
   "codemirror_mode": {
    "name": "ipython",
    "version": 3
   },
   "file_extension": ".py",
   "mimetype": "text/x-python",
   "name": "python",
   "nbconvert_exporter": "python",
   "pygments_lexer": "ipython3",
   "version": "3.10.14"
  }
 },
 "nbformat": 4,
 "nbformat_minor": 2
}
