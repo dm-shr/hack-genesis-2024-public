{
 "cells": [
  {
   "cell_type": "code",
   "execution_count": 1,
   "metadata": {},
   "outputs": [],
   "source": [
    "import os\n",
    "from yandex_chain import YandexEmbeddings\n",
    "from langchain_community.vectorstores import FAISS"
   ]
  },
  {
   "cell_type": "code",
   "execution_count": 2,
   "metadata": {},
   "outputs": [],
   "source": [
    "if os.getenv(\"environment\") != \"production\":\n",
    "    from dotenv import load_dotenv\n",
    "    load_dotenv(\"../app/.env\")\n",
    "\n",
    "AUTH_DATA = os.getenv(\"AUTH_DATA\")\n",
    "API_KEY = os.getenv(\"API_KEY\")\n",
    "FOLDER_ID = os.getenv(\"FOLDER_ID\")"
   ]
  },
  {
   "cell_type": "code",
   "execution_count": 20,
   "metadata": {},
   "outputs": [],
   "source": [
    "faiss_vdb = \"faiss_unstructured_v0.0.1\"\n",
    "\n",
    "db = FAISS.load_local(\n",
    "    os.path.join(\"..\", \"data\", \"unstructured_vdb\", faiss_vdb),\n",
    "    YandexEmbeddings(folder_id=FOLDER_ID, api_key=API_KEY),\n",
    "    allow_dangerous_deserialization = True\n",
    ")"
   ]
  },
  {
   "cell_type": "code",
   "execution_count": 25,
   "metadata": {},
   "outputs": [],
   "source": [
    "query = \"Из чего состоят арендные платежи?\"\n",
    "docs = db.similarity_search(query)"
   ]
  },
  {
   "cell_type": "code",
   "execution_count": 26,
   "metadata": {},
   "outputs": [
    {
     "name": "stdout",
     "output_type": "stream",
     "text": [
      "На дату начала аренды Компания признает обязательства по аренде, которые оцениваются по\n",
      "приведенной стоимости арендных платежей, которые должны быть осуществлены в течение срока\n",
      "аренды. Арендные платежи включают фиксированные платежи (в том числе, по существу,\n",
      "фиксированные платежи) за вычетом любых стимулирующих платежей по аренде к получению,\n",
      "переменные арендные платежи, которые зависят от индекса или ставки, и суммы, которые, как\n",
      "Страница: 15 Исходный документ: Отчетность и аудиторское заключение за 2022 год Мэйл.Ру Финанс.pdf\n"
     ]
    }
   ],
   "source": [
    "print(docs[0].page_content)\n",
    "page = docs[0].metadata[\"source\"].split(\"/\")[-1].split(\"_\")[-1].split(\".\")[0]\n",
    "file_name = docs[0].metadata['source'].split('/')[-2] + \".pdf\"\n",
    "print(f\"Страница: {page}\", f\"Исходный документ: {file_name}\")"
   ]
  },
  {
   "cell_type": "code",
   "execution_count": null,
   "metadata": {},
   "outputs": [],
   "source": []
  }
 ],
 "metadata": {
  "kernelspec": {
   "display_name": "Python 3",
   "language": "python",
   "name": "python3"
  },
  "language_info": {
   "codemirror_mode": {
    "name": "ipython",
    "version": 3
   },
   "file_extension": ".py",
   "mimetype": "text/x-python",
   "name": "python",
   "nbconvert_exporter": "python",
   "pygments_lexer": "ipython3",
   "version": "3.10.14"
  }
 },
 "nbformat": 4,
 "nbformat_minor": 2
}
